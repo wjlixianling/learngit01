{
  "cells": [
    {
      "cell_type": "markdown",
      "metadata": {
        "id": "view-in-github",
        "colab_type": "text"
      },
      "source": [
        "<a href=\"https://colab.research.google.com/github/wjlixianling/learngit01/blob/master/fooocus%E6%BC%94%E7%A4%BA.ipynb\" target=\"_parent\"><img src=\"https://colab.research.google.com/assets/colab-badge.svg\" alt=\"Open In Colab\"/></a>"
      ]
    },
    {
      "cell_type": "markdown",
      "metadata": {
        "id": "Tlh1MKxGrKFO"
      },
      "source": [
        "# Install fooocus and run"
      ]
    },
    {
      "cell_type": "markdown",
      "source": [
        "**下载fooocus**\n",
        "\n",
        "\n",
        "1.   官方地址：https://github.com/lllyasviel/Fooocus.git\n",
        "2.   本地分支：https://github.com/wjlixianling/Fooocus.git(增加中文配置)\n",
        "\n",
        "\n"
      ],
      "metadata": {
        "id": "eWg7nqEJrYoB"
      }
    },
    {
      "cell_type": "code",
      "source": [
        "!git clone https://github.com/wjlixianling/Fooocus.git\n"
      ],
      "metadata": {
        "colab": {
          "base_uri": "https://localhost:8080/"
        },
        "collapsed": true,
        "id": "p-SRJLQnVPr5",
        "outputId": "acaa4863-f59b-4816-8ec2-78347f666162"
      },
      "execution_count": 1,
      "outputs": [
        {
          "output_type": "stream",
          "name": "stdout",
          "text": [
            "Cloning into 'Fooocus'...\n",
            "remote: Enumerating objects: 6535, done.\u001b[K\n",
            "remote: Total 6535 (delta 0), reused 0 (delta 0), pack-reused 6535 (from 1)\u001b[K\n",
            "Receiving objects: 100% (6535/6535), 33.27 MiB | 16.76 MiB/s, done.\n",
            "Resolving deltas: 100% (3705/3705), done.\n"
          ]
        }
      ]
    },
    {
      "cell_type": "markdown",
      "source": [
        "进入fooocus目录"
      ],
      "metadata": {
        "id": "2FOzgLynrx1I"
      }
    },
    {
      "cell_type": "code",
      "source": [
        "%cd /content/Fooocus"
      ],
      "metadata": {
        "colab": {
          "base_uri": "https://localhost:8080/"
        },
        "id": "kQTLj9__dS3a",
        "outputId": "ceded335-51cb-4eb8-8936-a9d9e6d669ce"
      },
      "execution_count": 2,
      "outputs": [
        {
          "output_type": "stream",
          "name": "stdout",
          "text": [
            "/content/Fooocus\n"
          ]
        }
      ]
    },
    {
      "cell_type": "markdown",
      "source": [],
      "metadata": {
        "id": "Er086vwCBPA9"
      }
    },
    {
      "cell_type": "code",
      "source": [
        "ls -a"
      ],
      "metadata": {
        "id": "6R04vWivcw-3"
      },
      "execution_count": null,
      "outputs": []
    },
    {
      "cell_type": "markdown",
      "source": [
        "**安装必要的依赖项**"
      ],
      "metadata": {
        "id": "_vqRPAPeqtny"
      }
    },
    {
      "cell_type": "code",
      "source": [
        "pip install -r requirements_versions.txt"
      ],
      "metadata": {
        "collapsed": true,
        "id": "kOqXDaAEZhCS"
      },
      "execution_count": null,
      "outputs": []
    },
    {
      "cell_type": "markdown",
      "source": [
        "**进入模版存放路径**\n"
      ],
      "metadata": {
        "id": "CNznES_5JImv"
      }
    },
    {
      "cell_type": "code",
      "source": [
        "%cd models/checkpoints/"
      ],
      "metadata": {
        "id": "D0x_2dYcJHwq"
      },
      "execution_count": null,
      "outputs": []
    },
    {
      "cell_type": "markdown",
      "source": [
        "**下载自己想要的模型**\n",
        "\n",
        "*  动漫模型Anything: https://huggingface.co/admruul/anything-v3.0/resolve/main/Anything-V3.0-pruned-fp32.safetensors\n",
        "\n",
        "\n"
      ],
      "metadata": {
        "id": "2i3Cv1sXJfhT"
      }
    },
    {
      "cell_type": "code",
      "source": [
        "!wget https://huggingface.co/admruul/anything-v3.0/resolve/main/Anything-V3.0-pruned-fp32.safetensors"
      ],
      "metadata": {
        "id": "R9aBr0tsJbvk"
      },
      "execution_count": null,
      "outputs": []
    },
    {
      "cell_type": "markdown",
      "source": [
        "**启动fooocus服务并生成可访问链接**\n",
        "\n",
        "1.   指定中文 --language cn\n",
        "2.   生成Gradio公网链接 --share\n",
        "\n",
        "\n",
        "\n"
      ],
      "metadata": {
        "id": "fez8iXDirO_u"
      }
    },
    {
      "cell_type": "code",
      "source": [
        "!python launch.py --share --language cn"
      ],
      "metadata": {
        "colab": {
          "base_uri": "https://localhost:8080/"
        },
        "collapsed": true,
        "id": "SstJr6ZvfX-7",
        "outputId": "0b38feb6-8d76-41dd-98be-f4352f118565"
      },
      "execution_count": 10,
      "outputs": [
        {
          "output_type": "stream",
          "name": "stdout",
          "text": [
            "^C\n"
          ]
        }
      ]
    },
    {
      "cell_type": "markdown",
      "source": [
        "# 代码demo"
      ],
      "metadata": {
        "id": "oNb0ualwLGzf"
      }
    },
    {
      "cell_type": "code",
      "source": [
        "!python -V"
      ],
      "metadata": {
        "id": "ZTlc4hK7ML-H",
        "outputId": "da87560f-45c3-4193-eb47-8b518ce4cd79",
        "colab": {
          "base_uri": "https://localhost:8080/"
        }
      },
      "execution_count": null,
      "outputs": [
        {
          "output_type": "stream",
          "name": "stdout",
          "text": [
            "Python 3.11.11\n"
          ]
        }
      ]
    },
    {
      "cell_type": "markdown",
      "source": [
        "# 下载model测试"
      ],
      "metadata": {
        "id": "XL-oxbc8JEeS"
      }
    },
    {
      "cell_type": "markdown",
      "source": [
        "**仅下载模型不要直接clone**"
      ],
      "metadata": {
        "id": "HD4DxL-EAdAl"
      }
    },
    {
      "cell_type": "code",
      "source": [
        "!du -h\n"
      ],
      "metadata": {
        "id": "XV5A1FSzNfF7"
      },
      "execution_count": null,
      "outputs": []
    },
    {
      "cell_type": "code",
      "source": [
        "!mkdir myModels"
      ],
      "metadata": {
        "colab": {
          "base_uri": "https://localhost:8080/"
        },
        "id": "fmaivdQDQquy",
        "outputId": "ea413a01-91bc-47af-b41f-ad9175f06198"
      },
      "execution_count": 6,
      "outputs": [
        {
          "output_type": "stream",
          "name": "stdout",
          "text": [
            "mkdir: cannot create directory ‘myModels’: File exists\n"
          ]
        }
      ]
    },
    {
      "cell_type": "code",
      "source": [
        "ls"
      ],
      "metadata": {
        "colab": {
          "base_uri": "https://localhost:8080/"
        },
        "id": "2zKbWPobSlGv",
        "outputId": "df454adf-c73d-4df7-babc-4d644f865d04"
      },
      "execution_count": 4,
      "outputs": [
        {
          "output_type": "stream",
          "name": "stdout",
          "text": [
            "put_checkpoints_here\n"
          ]
        }
      ]
    },
    {
      "cell_type": "code",
      "source": [
        "%cd .."
      ],
      "metadata": {
        "colab": {
          "base_uri": "https://localhost:8080/"
        },
        "id": "24kIQnMYPnlL",
        "outputId": "ca408e6b-0af2-4f94-f56d-2ccfe2729811"
      },
      "execution_count": 9,
      "outputs": [
        {
          "output_type": "stream",
          "name": "stdout",
          "text": [
            "/content/Fooocus\n"
          ]
        }
      ]
    },
    {
      "cell_type": "markdown",
      "source": [
        "**直接下载模型本身**"
      ],
      "metadata": {
        "id": "_YhIGktsAqM_"
      }
    },
    {
      "cell_type": "code",
      "source": [
        "!wget https://huggingface.co/admruul/anything-v3.0/resolve/main/Anything-V3.0-pruned-fp32.safetensors"
      ],
      "metadata": {
        "colab": {
          "base_uri": "https://localhost:8080/"
        },
        "id": "xy0h2heMSr2A",
        "outputId": "4ec445d2-c565-41e1-9ec8-0d61f34217f4"
      },
      "execution_count": 5,
      "outputs": [
        {
          "output_type": "stream",
          "name": "stdout",
          "text": [
            "--2025-03-18 07:03:59--  https://huggingface.co/admruul/anything-v3.0/resolve/main/Anything-V3.0-pruned-fp32.safetensors\n",
            "Resolving huggingface.co (huggingface.co)... 13.35.202.97, 13.35.202.40, 13.35.202.121, ...\n",
            "Connecting to huggingface.co (huggingface.co)|13.35.202.97|:443... connected.\n",
            "HTTP request sent, awaiting response... 302 Found\n",
            "Location: https://cdn-lfs.hf.co/repos/04/25/0425705e8785048ce349d288630ad4b82fcb0c4d22796cc9f8d81f960f254493/875546ff2e9b953541de94de079424c1771ca9f9dc89064735fea3d87141aabe?response-content-disposition=inline%3B+filename*%3DUTF-8%27%27Anything-V3.0-pruned-fp32.safetensors%3B+filename%3D%22Anything-V3.0-pruned-fp32.safetensors%22%3B&Expires=1742285039&Policy=eyJTdGF0ZW1lbnQiOlt7IkNvbmRpdGlvbiI6eyJEYXRlTGVzc1RoYW4iOnsiQVdTOkVwb2NoVGltZSI6MTc0MjI4NTAzOX19LCJSZXNvdXJjZSI6Imh0dHBzOi8vY2RuLWxmcy5oZi5jby9yZXBvcy8wNC8yNS8wNDI1NzA1ZTg3ODUwNDhjZTM0OWQyODg2MzBhZDRiODJmY2IwYzRkMjI3OTZjYzlmOGQ4MWY5NjBmMjU0NDkzLzg3NTU0NmZmMmU5Yjk1MzU0MWRlOTRkZTA3OTQyNGMxNzcxY2E5ZjlkYzg5MDY0NzM1ZmVhM2Q4NzE0MWFhYmU%7EcmVzcG9uc2UtY29udGVudC1kaXNwb3NpdGlvbj0qIn1dfQ__&Signature=IikGIBebngW5YdeWTkHEH4PL6m66hnFvUJbSKVBqWO0JSi3-XdzoSFPtUOUtZ3HJuDQpylUJMcpelZrK-sNn3f-IxdppcHO9IZR1BVabvo%7EGKt0tn66OhndWzUYvMR9MsTMJTWwCYFcgs5L87l8hiVeCf9PaXzGagvAUCW3qG8yQJ1zwdBNC28vy0FesCVhl23pWNxLr8omoJWEcCT5Yb-gMJxu-oSLBxNxSGZqubYzgx-tTjtbW%7EV8HgvkBJ5VbtihEohU89IxUYGZvizYYU4LO2EPiE27HcIzgt5PAxBIlmYOZUyMTQXVLF55bgAq8hfxf20%7EYtiKETJTX0dxq9g__&Key-Pair-Id=K3RPWS32NSSJCE [following]\n",
            "--2025-03-18 07:03:59--  https://cdn-lfs.hf.co/repos/04/25/0425705e8785048ce349d288630ad4b82fcb0c4d22796cc9f8d81f960f254493/875546ff2e9b953541de94de079424c1771ca9f9dc89064735fea3d87141aabe?response-content-disposition=inline%3B+filename*%3DUTF-8%27%27Anything-V3.0-pruned-fp32.safetensors%3B+filename%3D%22Anything-V3.0-pruned-fp32.safetensors%22%3B&Expires=1742285039&Policy=eyJTdGF0ZW1lbnQiOlt7IkNvbmRpdGlvbiI6eyJEYXRlTGVzc1RoYW4iOnsiQVdTOkVwb2NoVGltZSI6MTc0MjI4NTAzOX19LCJSZXNvdXJjZSI6Imh0dHBzOi8vY2RuLWxmcy5oZi5jby9yZXBvcy8wNC8yNS8wNDI1NzA1ZTg3ODUwNDhjZTM0OWQyODg2MzBhZDRiODJmY2IwYzRkMjI3OTZjYzlmOGQ4MWY5NjBmMjU0NDkzLzg3NTU0NmZmMmU5Yjk1MzU0MWRlOTRkZTA3OTQyNGMxNzcxY2E5ZjlkYzg5MDY0NzM1ZmVhM2Q4NzE0MWFhYmU%7EcmVzcG9uc2UtY29udGVudC1kaXNwb3NpdGlvbj0qIn1dfQ__&Signature=IikGIBebngW5YdeWTkHEH4PL6m66hnFvUJbSKVBqWO0JSi3-XdzoSFPtUOUtZ3HJuDQpylUJMcpelZrK-sNn3f-IxdppcHO9IZR1BVabvo%7EGKt0tn66OhndWzUYvMR9MsTMJTWwCYFcgs5L87l8hiVeCf9PaXzGagvAUCW3qG8yQJ1zwdBNC28vy0FesCVhl23pWNxLr8omoJWEcCT5Yb-gMJxu-oSLBxNxSGZqubYzgx-tTjtbW%7EV8HgvkBJ5VbtihEohU89IxUYGZvizYYU4LO2EPiE27HcIzgt5PAxBIlmYOZUyMTQXVLF55bgAq8hfxf20%7EYtiKETJTX0dxq9g__&Key-Pair-Id=K3RPWS32NSSJCE\n",
            "Resolving cdn-lfs.hf.co (cdn-lfs.hf.co)... 3.170.229.19, 3.170.229.125, 3.170.229.105, ...\n",
            "Connecting to cdn-lfs.hf.co (cdn-lfs.hf.co)|3.170.229.19|:443... connected.\n",
            "HTTP request sent, awaiting response... 200 OK\n",
            "Length: 4265096902 (4.0G) [binary/octet-stream]\n",
            "Saving to: ‘Anything-V3.0-pruned-fp32.safetensors’\n",
            "\n",
            "Anything-V3.0-prune 100%[===================>]   3.97G  21.5MB/s    in 3m 11s  \n",
            "\n",
            "2025-03-18 07:07:10 (21.3 MB/s) - ‘Anything-V3.0-pruned-fp32.safetensors’ saved [4265096902/4265096902]\n",
            "\n"
          ]
        }
      ]
    },
    {
      "cell_type": "code",
      "source": [
        "rm lora.safetensors"
      ],
      "metadata": {
        "id": "0-yuV1GMT572"
      },
      "execution_count": 10,
      "outputs": []
    }
  ],
  "metadata": {
    "colab": {
      "provenance": [],
      "toc_visible": true,
      "gpuType": "T4",
      "include_colab_link": true
    },
    "kernelspec": {
      "display_name": "Python 3",
      "name": "python3"
    },
    "accelerator": "GPU"
  },
  "nbformat": 4,
  "nbformat_minor": 0
}